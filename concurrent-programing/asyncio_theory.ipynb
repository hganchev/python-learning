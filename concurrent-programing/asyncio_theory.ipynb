{
 "cells": [
  {
   "cell_type": "markdown",
   "metadata": {},
   "source": [
    "asyncio is a library to write concurrent code using the async/await syntax.\n",
    "\n",
    "asyncio is used as a foundation for multiple Python asynchronous frameworks that provide high-performance network and web-servers, database connection libraries, distributed task queues, etc.\n",
    "\n",
    "asyncio is often a perfect fit for IO-bound and high-level structured network code.\n",
    "\n",
    "# asyncio provides a set of high-level APIs to:\n",
    "\n",
    "- run Python coroutines concurrently and have full control over their execution;\n",
    "\n",
    "- perform network IO and IPC;\n",
    "\n",
    "- control subprocesses;\n",
    "\n",
    "- distribute tasks via queues;\n",
    "\n",
    "- synchronize concurrent code;\n",
    "\n",
    "# Additionally, there are low-level APIs for library and framework developers to:\n",
    "\n",
    "- create and manage event loops, which provide asynchronous APIs for networking, running subprocesses, handling OS signals, etc;\n",
    "\n",
    "- implement efficient protocols using transports;\n",
    "\n",
    "- bridge callback-based libraries and code with async/await syntax."
   ]
  },
  {
   "cell_type": "markdown",
   "metadata": {},
   "source": [
    "# Runners"
   ]
  },
  {
   "cell_type": "code",
   "execution_count": null,
   "metadata": {},
   "outputs": [],
   "source": [
    "import asyncio\n",
    "\n",
    "async def main():\n",
    "    await asyncio.sleep(1)\n",
    "    print('hello')\n",
    "\n",
    "if __name__ == '__main__':\n",
    "    with asyncio.Runner() as runner:\n",
    "        runner.run(main()) # not working with Jupyter Notebook"
   ]
  },
  {
   "cell_type": "markdown",
   "metadata": {},
   "source": [
    "# Corotines"
   ]
  },
  {
   "cell_type": "code",
   "execution_count": null,
   "metadata": {},
   "outputs": [],
   "source": [
    "import asyncio\n",
    "\n",
    "async def main():\n",
    "    print('hello')\n",
    "    await asyncio.sleep(1)\n",
    "    print('world')\n",
    "\n",
    "asyncio.run(main()) # not working with Jupyter Notebook"
   ]
  },
  {
   "cell_type": "markdown",
   "metadata": {},
   "source": [
    "# Awaitables"
   ]
  },
  {
   "cell_type": "code",
   "execution_count": 16,
   "metadata": {},
   "outputs": [
    {
     "name": "stdout",
     "output_type": "stream",
     "text": [
      "42\n"
     ]
    },
    {
     "name": "stderr",
     "output_type": "stream",
     "text": [
      "C:\\Users\\HristoPC\\AppData\\Local\\Temp\\ipykernel_41064\\2630521839.py:10: RuntimeWarning: coroutine 'nested' was never awaited\n",
      "  nested()\n",
      "RuntimeWarning: Enable tracemalloc to get the object allocation traceback\n"
     ]
    }
   ],
   "source": [
    "import asyncio\n",
    "\n",
    "async def nested():\n",
    "    return 42\n",
    "\n",
    "async def main():\n",
    "    # Nothing happens if we just call \"nested()\".\n",
    "    # A coroutine object is created but not awaited,\n",
    "    # so it *won't run at all*.\n",
    "    nested()\n",
    "\n",
    "    # Let's do it differently now and await it:\n",
    "    print(await nested())  # will print \"42\".\n",
    "\n",
    "if __name__ == '__main__':\n",
    "    await main()"
   ]
  },
  {
   "cell_type": "markdown",
   "metadata": {},
   "source": [
    "# Creating tasks"
   ]
  },
  {
   "cell_type": "code",
   "execution_count": 18,
   "metadata": {},
   "outputs": [
    {
     "name": "stdout",
     "output_type": "stream",
     "text": [
      "0\n",
      "2\n",
      "6\n",
      "9\n",
      "8\n",
      "5\n",
      "7\n",
      "4\n",
      "1\n",
      "3\n"
     ]
    }
   ],
   "source": [
    "import asyncio\n",
    "\n",
    "async def some_coro(param):\n",
    "    await asyncio.sleep(1)\n",
    "    print(param)\n",
    "\n",
    "background_tasks = set()\n",
    "\n",
    "for i in range(10):\n",
    "    task = asyncio.create_task(some_coro(param=i))\n",
    "\n",
    "    # Add task to the set. This creates a strong reference.\n",
    "    background_tasks.add(task)\n",
    "\n",
    "    # To prevent keeping references to finished tasks forever,\n",
    "    # make each task remove its own reference from the set after\n",
    "    # completion:\n",
    "    task.add_done_callback(background_tasks.discard)"
   ]
  },
  {
   "cell_type": "markdown",
   "metadata": {},
   "source": [
    "# Task Groups"
   ]
  },
  {
   "cell_type": "code",
   "execution_count": 20,
   "metadata": {},
   "outputs": [
    {
     "ename": "ExceptionGroup",
     "evalue": "unhandled errors in a TaskGroup (1 sub-exception)",
     "output_type": "error",
     "traceback": [
      "\u001b[1;31m---------------------------------------------------------------------------\u001b[0m",
      "\u001b[1;31mExceptionGroup\u001b[0m                            Traceback (most recent call last)",
      "Cell \u001b[1;32mIn[20], line 18\u001b[0m\n\u001b[0;32m     15\u001b[0m     \u001b[38;5;28mprint\u001b[39m(\u001b[38;5;124mf\u001b[39m\u001b[38;5;124m\"\u001b[39m\u001b[38;5;124mBoth tasks have completed now: \u001b[39m\u001b[38;5;132;01m{\u001b[39;00mtask1\u001b[38;5;241m.\u001b[39mresult()\u001b[38;5;132;01m}\u001b[39;00m\u001b[38;5;124m, \u001b[39m\u001b[38;5;132;01m{\u001b[39;00mtask2\u001b[38;5;241m.\u001b[39mresult()\u001b[38;5;132;01m}\u001b[39;00m\u001b[38;5;124m\"\u001b[39m)\n\u001b[0;32m     17\u001b[0m \u001b[38;5;28;01mif\u001b[39;00m \u001b[38;5;18m__name__\u001b[39m \u001b[38;5;241m==\u001b[39m \u001b[38;5;124m'\u001b[39m\u001b[38;5;124m__main__\u001b[39m\u001b[38;5;124m'\u001b[39m:\n\u001b[1;32m---> 18\u001b[0m     \u001b[38;5;28;01mawait\u001b[39;00m main() \u001b[38;5;66;03m# using await instead of asyncio.run(main()) for Jupyter Notebook\u001b[39;00m\n",
      "Cell \u001b[1;32mIn[20], line 12\u001b[0m, in \u001b[0;36mmain\u001b[1;34m()\u001b[0m\n\u001b[0;32m     11\u001b[0m \u001b[38;5;28;01masync\u001b[39;00m \u001b[38;5;28;01mdef\u001b[39;00m \u001b[38;5;21mmain\u001b[39m():\n\u001b[1;32m---> 12\u001b[0m     \u001b[38;5;28;01masync\u001b[39;00m \u001b[38;5;28;01mwith\u001b[39;00m asyncio\u001b[38;5;241m.\u001b[39mTaskGroup() \u001b[38;5;28;01mas\u001b[39;00m tg:\n\u001b[0;32m     13\u001b[0m         task1 \u001b[38;5;241m=\u001b[39m tg\u001b[38;5;241m.\u001b[39mcreate_task(some_coro(\u001b[38;5;241m.\u001b[39m\u001b[38;5;241m.\u001b[39m\u001b[38;5;241m.\u001b[39m))\n\u001b[0;32m     14\u001b[0m         task2 \u001b[38;5;241m=\u001b[39m tg\u001b[38;5;241m.\u001b[39mcreate_task(another_coro(\u001b[38;5;241m.\u001b[39m\u001b[38;5;241m.\u001b[39m\u001b[38;5;241m.\u001b[39m))\n",
      "File \u001b[1;32mc:\\Python311\\Lib\\asyncio\\taskgroups.py:135\u001b[0m, in \u001b[0;36mTaskGroup.__aexit__\u001b[1;34m(self, et, exc, tb)\u001b[0m\n\u001b[0;32m    132\u001b[0m \u001b[38;5;28mself\u001b[39m\u001b[38;5;241m.\u001b[39m_errors \u001b[38;5;241m=\u001b[39m \u001b[38;5;28;01mNone\u001b[39;00m\n\u001b[0;32m    134\u001b[0m me \u001b[38;5;241m=\u001b[39m BaseExceptionGroup(\u001b[38;5;124m'\u001b[39m\u001b[38;5;124munhandled errors in a TaskGroup\u001b[39m\u001b[38;5;124m'\u001b[39m, errors)\n\u001b[1;32m--> 135\u001b[0m \u001b[38;5;28;01mraise\u001b[39;00m me \u001b[38;5;28;01mfrom\u001b[39;00m \u001b[38;5;28;01mNone\u001b[39;00m\n",
      "\u001b[1;31mExceptionGroup\u001b[0m: unhandled errors in a TaskGroup (1 sub-exception)"
     ]
    }
   ],
   "source": [
    "import asyncio\n",
    "\n",
    "async def some_coro(param):\n",
    "    await asyncio.sleep(1)\n",
    "    print(param)\n",
    "\n",
    "async def another_coro():\n",
    "    await asyncio.sleep(1)\n",
    "    print('another_coro')\n",
    "\n",
    "async def main():\n",
    "    async with asyncio.TaskGroup() as tg:\n",
    "        task1 = tg.create_task(some_coro(param=1))\n",
    "        task2 = tg.create_task(another_coro())\n",
    "    print(f\"Both tasks have completed now: {task1.result()}, {task2.result()}\")\n",
    "\n",
    "if __name__ == '__main__':\n",
    "    await main() # using await instead of asyncio.run(main()) for Jupyter Notebook"
   ]
  }
 ],
 "metadata": {
  "kernelspec": {
   "display_name": "Python 3",
   "language": "python",
   "name": "python3"
  },
  "language_info": {
   "codemirror_mode": {
    "name": "ipython",
    "version": 3
   },
   "file_extension": ".py",
   "mimetype": "text/x-python",
   "name": "python",
   "nbconvert_exporter": "python",
   "pygments_lexer": "ipython3",
   "version": "3.11.0"
  }
 },
 "nbformat": 4,
 "nbformat_minor": 2
}
