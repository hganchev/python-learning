{
 "cells": [
  {
   "cell_type": "markdown",
   "metadata": {},
   "source": [
    "Python multiprocessing is a package that supports running multiple processes simultaneously, using an API similar to the threading module. \n",
    "It allows the system to leverage multiple processors and avoid the Global Interpreter Lock. \n",
    "Multiprocessing can improve the performance and efficiency of applications that require intensive computation or I/O operations.\n",
    "\n",
    "Some of the main features of the multiprocessing package are:\n",
    "\n",
    "- Process class: It represents a single process and allows creating and managing processes using the start, join, and terminate methods.\n",
    "- Pool class: It provides a convenient way of parallelizing the execution of a function across multiple input values, \n",
    "distributing the input data across processes.\n",
    "- Queue class: It enables multiple processes to exchange messages using a FIFO (first-in first-out) data structure.\n",
    "- Pipe function: It returns a pair of connection objects that can be used for bidirectional communication between two processes.\n",
    "- Lock class: It provides a synchronization mechanism that prevents multiple processes from accessing a shared resource at the same time.\n",
    "\n",
    "If you want to learn more about multiprocessing in Python, you can check out these resources:\n",
    "\n",
    "- [multiprocessing — Process-based parallelism — Python 3.12.1 documentation](^1^)\n",
    "- [Multiprocessing in Python | Set 1 (Introduction) - GeeksforGeeks](^2^)\n",
    "- [Multiprocessing in Python - Running Multiple Processes in Parallel ...](^3^)\n",
    "- [Understanding the Basics of Multiprocess in Python - HubSpot Blog](^4^)\n",
    "- [Python Multiprocessing: The Complete Guide - Super Fast Python](^5^)"
   ]
  },
  {
   "cell_type": "markdown",
   "metadata": {},
   "source": [
    "# ! Do not run because it will crash the kernel! Multiprocessing is not supported in Jupyter Notebook."
   ]
  },
  {
   "cell_type": "markdown",
   "metadata": {},
   "source": [
    "# Process class"
   ]
  },
  {
   "cell_type": "code",
   "execution_count": 1,
   "metadata": {},
   "outputs": [],
   "source": [
    "import multiprocessing\n",
    "from multiprocessing import Pool\n",
    "import time\n",
    "\n",
    "def func(x):\n",
    "    time.sleep(1)\n",
    "    print(x*x)\n",
    "\n",
    "def main():\n",
    "    for i in range(10):\n",
    "        proces = multiprocessing.Process(target=func, args=(i,))\n",
    "        proces.start()\n",
    "        proces.join()\n",
    "\n",
    "if __name__ == '__main__':\n",
    "    main()"
   ]
  },
  {
   "cell_type": "markdown",
   "metadata": {},
   "source": [
    "# Pool class"
   ]
  },
  {
   "cell_type": "code",
   "execution_count": 4,
   "metadata": {},
   "outputs": [],
   "source": [
    "import multiprocessing\n",
    "from multiprocessing import Pool\n",
    "import time\n",
    "\n",
    "def function(num):\n",
    "    \"\"\"Function that uses CPU\"\"\"\n",
    "    for i in range(5):\n",
    "        print(f'Function num: {i}')\n",
    "        time.sleep(1)\n",
    "\n",
    "if __name__ == '__main__':\n",
    "    with Pool(processes=2) as pool:\n",
    "        pool.apply(function, args=(1,))\n",
    "        pool.apply(function, args=(2,))\n",
    "        pool.close()\n",
    "        pool.join()\n"
   ]
  },
  {
   "cell_type": "code",
   "execution_count": 1,
   "metadata": {},
   "outputs": [],
   "source": [
    "import multiprocessing\n",
    "from multiprocessing import Pool\n",
    "import time\n",
    "\n",
    "def function():\n",
    "    \"\"\"Function that uses CPU\"\"\"\n",
    "    for i in range(5):\n",
    "        print(f'Function: {i}')\n",
    "        time.sleep(1)\n",
    "\n",
    "if __name__ == '__main__':\n",
    "    with Pool(processes=2) as pool:\n",
    "        pool.map_async(func=function, iterable=range(2))\n",
    "        pool.map_async(func=function, iterable=range(2))\n",
    "        pool.map_async(func=function, iterable=range(2))\n",
    "        pool.close()\n",
    "        pool.join()"
   ]
  },
  {
   "cell_type": "markdown",
   "metadata": {},
   "source": [
    "# Queue class"
   ]
  },
  {
   "cell_type": "code",
   "execution_count": 1,
   "metadata": {},
   "outputs": [
    {
     "name": "stdout",
     "output_type": "stream",
     "text": [
      "[42, None, 'hello']\n"
     ]
    }
   ],
   "source": [
    "from multiprocessing import Process, Queue\n",
    "\n",
    "def f(q):\n",
    "    q.put([42, None, 'hello'])\n",
    "\n",
    "if __name__ == '__main__':\n",
    "    q = Queue()\n",
    "    p = Process(target=f, args=(q,))\n",
    "    p.start()\n",
    "    print(q.get())    # prints \"[42, None, 'hello']\"\n",
    "    p.join()"
   ]
  },
  {
   "cell_type": "markdown",
   "metadata": {},
   "source": [
    "# Pipes\n",
    "\n",
    "The Pipe() function returns a pair of connection objects connected by a pipe which by default is duplex (two-way). For example:"
   ]
  },
  {
   "cell_type": "code",
   "execution_count": 1,
   "metadata": {},
   "outputs": [
    {
     "name": "stdout",
     "output_type": "stream",
     "text": [
      "[42, None, 'hello']\n"
     ]
    }
   ],
   "source": [
    "from multiprocessing import Process, Pipe\n",
    "\n",
    "def f(conn):\n",
    "    conn.send([42, None, 'hello'])\n",
    "    conn.close()\n",
    "\n",
    "if __name__ == '__main__':\n",
    "    parent_conn, child_conn = Pipe()\n",
    "    p = Process(target=f, args=(child_conn,))\n",
    "    p.start()\n",
    "    print(parent_conn.recv())   # prints \"[42, None, 'hello']\"\n",
    "    p.join()\n"
   ]
  },
  {
   "cell_type": "markdown",
   "metadata": {},
   "source": [
    "The two connection objects returned by Pipe() represent the two ends of the pipe. Each connection object has send() and recv() methods (among others). Note that data in a pipe may become corrupted if two processes (or threads) try to read from or write to the same end of the pipe at the same time. Of course there is no risk of corruption from processes using different ends of the pipe at the same time."
   ]
  },
  {
   "cell_type": "markdown",
   "metadata": {},
   "source": [
    "# Locks"
   ]
  },
  {
   "cell_type": "code",
   "execution_count": 1,
   "metadata": {},
   "outputs": [],
   "source": [
    "from multiprocessing import Process, Lock\n",
    "import time\n",
    "\n",
    "def f(l, i):\n",
    "    l.acquire()\n",
    "    try:\n",
    "        print('hello world', i)\n",
    "        time.sleep(1)\n",
    "    finally:\n",
    "        l.release()\n",
    "\n",
    "if __name__ == '__main__':\n",
    "    lock = Lock()\n",
    "\n",
    "    for num in range(10):\n",
    "        Process(target=f, args=(lock, num)).start()"
   ]
  }
 ],
 "metadata": {
  "kernelspec": {
   "display_name": "Python 3",
   "language": "python",
   "name": "python3"
  },
  "language_info": {
   "codemirror_mode": {
    "name": "ipython",
    "version": 3
   },
   "file_extension": ".py",
   "mimetype": "text/x-python",
   "name": "python",
   "nbconvert_exporter": "python",
   "pygments_lexer": "ipython3",
   "version": "3.11.0"
  }
 },
 "nbformat": 4,
 "nbformat_minor": 2
}
