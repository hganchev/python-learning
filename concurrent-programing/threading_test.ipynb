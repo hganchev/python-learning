{
 "cells": [
  {
   "cell_type": "markdown",
   "metadata": {},
   "source": [
    "# Barrier objects"
   ]
  },
  {
   "cell_type": "code",
   "execution_count": null,
   "metadata": {},
   "outputs": [],
   "source": [
    "import threading\n",
    "from threading import Barrier\n",
    "\n",
    "b = Barrier(2, timeout=5)\n",
    "\n",
    "def start_server():\n",
    "    print(\"Starting server\")\n",
    "    b.wait()\n",
    "    print(\"Server started\")\n",
    "\n",
    "def accept_connection():\n",
    "    print(\"Accepting connection\")\n",
    "    b.wait()\n",
    "    print(\"Connection accepted\")\n",
    "\n",
    "def process_server_connection(connection):\n",
    "    print(\"Processing connection\")\n",
    "    b.wait()\n",
    "    print(\"Connection processed\")\n",
    "\n",
    "def make_connection():\n",
    "    print(\"Making connection\")\n",
    "    b.wait()\n",
    "    print(\"Connection made\")\n",
    "\n",
    "def process_client_connection(connection):\n",
    "    print(\"Processing connection\")\n",
    "    b.wait()\n",
    "    print(\"Connection processed\")\n",
    "\n",
    "def server():\n",
    "    start_server()\n",
    "    b.wait()\n",
    "    while True:\n",
    "        connection = accept_connection()\n",
    "        process_server_connection(connection)\n",
    "\n",
    "def client():\n",
    "    b.wait()\n",
    "    while True:\n",
    "        connection = make_connection()\n",
    "        process_client_connection(connection)\n",
    "\n",
    "def main():\n",
    "    threading.Thread(target=server).start()\n",
    "    threading.Thread(target=client).start()\n",
    "\n",
    "if __name__ == \"__main__\":\n",
    "    main()"
   ]
  }
 ],
 "metadata": {
  "language_info": {
   "name": "python"
  }
 },
 "nbformat": 4,
 "nbformat_minor": 2
}
