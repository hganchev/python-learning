{
 "cells": [
  {
   "cell_type": "markdown",
   "metadata": {},
   "source": [
    "|I/O-Bound Process|\tCPU-Bound Process|\n",
    "|--|--|\n",
    "| Your program spends most of its time talking to a slow device, like a network connection, a hard drive, or a printer.|\tYou program spends most of its time doing CPU operations.|\n",
    "| Speeding it up involves overlapping the times spent waiting for these devices.| Speeding it up involves finding ways to do more computations in the same amount of time.|"
   ]
  },
  {
   "cell_type": "markdown",
   "metadata": {},
   "source": [
    "| Concurrency Type | Switching Decision | Number of Processors |\n",
    "|--------------|-----------|------------|\n",
    "| Pre-emptive multitasking (threading) | The operating system decides when to switch tasks external to Python.| 1|\n",
    "| Cooperative multitasking (asyncio) | The tasks decide when to give up control. | 1|\n",
    "| Multiprocessing (multiprocessing) | The processes all run at the same time on different processors.| Many|"
   ]
  },
  {
   "cell_type": "code",
   "execution_count": 1,
   "metadata": {},
   "outputs": [],
   "source": [
    "import threading\n",
    "import multiprocessing\n",
    "import time\n",
    "import sys"
   ]
  },
  {
   "cell_type": "code",
   "execution_count": 2,
   "metadata": {},
   "outputs": [],
   "source": [
    "def cpu_func(result, niters):\n",
    "    '''\n",
    "    A useless CPU bound function.\n",
    "    '''\n",
    "    for i in range(niters):\n",
    "        result = (result * result * i + 2 * result * i * i + 3) % 10000000\n",
    "    return result\n",
    "\n",
    "class CpuThread(threading.Thread):\n",
    "    def __init__(self, niters):\n",
    "        super().__init__()\n",
    "        self.niters = niters\n",
    "        self.result = 1\n",
    "    def run(self):\n",
    "        self.result = cpu_func(self.result, self.niters)\n",
    "\n",
    "class CpuProcess(multiprocessing.Process):\n",
    "    def __init__(self, niters):\n",
    "        super().__init__()\n",
    "        self.niters = niters\n",
    "        self.result = 1\n",
    "    def run(self):\n",
    "        self.result = cpu_func(self.result, self.niters)\n",
    "\n",
    "class IoThread(threading.Thread):\n",
    "    def __init__(self, sleep):\n",
    "        super().__init__()\n",
    "        self.sleep = sleep\n",
    "        self.result = self.sleep\n",
    "    def run(self):\n",
    "        time.sleep(self.sleep)\n",
    "\n",
    "class IoProcess(multiprocessing.Process):\n",
    "    def __init__(self, sleep):\n",
    "        super().__init__()\n",
    "        self.sleep = sleep\n",
    "        self.result = self.sleep\n",
    "    def run(self):\n",
    "        time.sleep(self.sleep)"
   ]
  },
  {
   "cell_type": "code",
   "execution_count": 14,
   "metadata": {},
   "outputs": [
    {
     "name": "stdout",
     "output_type": "stream",
     "text": [
      "nthreads CpuThread CpuProcess IoThread IoProcess\n",
      "1.000000e+00 3.619986e-01 1.433006e+00 1.003213e+00 1.417256e+00\n",
      "2.000000e+00 6.270070e-01 1.449982e+00 1.003901e+00 1.492973e+00\n",
      "3.000000e+00 9.260094e-01 1.492968e+00 1.007475e+00 1.496097e+00\n",
      "4.000000e+00 1.302943e+00 1.507056e+00 1.009218e+00 1.525013e+00\n",
      "5.000000e+00 1.561030e+00 1.581995e+00 1.010297e+00 1.591685e+00\n",
      "6.000000e+00 1.864017e+00 1.655797e+00 1.009461e+00 1.655607e+00\n",
      "7.000000e+00 2.313000e+00 1.785013e+00 1.011499e+00 1.745467e+00\n",
      "8.000000e+00 2.557989e+00 1.811211e+00 1.013873e+00 1.801916e+00\n",
      "9.000000e+00 2.909030e+00 1.929888e+00 1.015188e+00 1.909618e+00\n",
      "1.000000e+01 3.192922e+00 2.018377e+00 1.016929e+00 2.017855e+00\n",
      "1.100000e+01 3.489019e+00 2.115698e+00 1.018779e+00 2.124717e+00\n",
      "1.200000e+01 3.771013e+00 2.227961e+00 1.017799e+00 2.229400e+00\n",
      "1.300000e+01 4.027010e+00 2.377691e+00 1.022096e+00 2.510583e+00\n",
      "1.400000e+01 4.358999e+00 2.463514e+00 1.020988e+00 2.505461e+00\n",
      "1.500000e+01 4.697000e+00 2.534052e+00 1.025125e+00 2.583497e+00\n"
     ]
    }
   ],
   "source": [
    "if __name__ == '__main__':\n",
    "    cpu_n_iters = 500000\n",
    "    sleep = 1\n",
    "    cpu_count = multiprocessing.cpu_count()\n",
    "    input_params = [\n",
    "        (CpuThread, cpu_n_iters),\n",
    "        (CpuProcess, cpu_n_iters),\n",
    "        (IoThread, sleep),\n",
    "        (IoProcess, sleep),\n",
    "    ]\n",
    "    header = ['nthreads']\n",
    "    results_list = []\n",
    "    for thread_class, _ in input_params:\n",
    "        header.append(thread_class.__name__)\n",
    "    print(' '.join(header))\n",
    "    for nthreads in range(1, 2 * cpu_count):\n",
    "        results = [nthreads]\n",
    "        for thread_class, work_size in input_params:\n",
    "            start_time = time.time()\n",
    "            threads = []\n",
    "            for i in range(nthreads):\n",
    "                thread = thread_class(work_size)\n",
    "                threads.append(thread)\n",
    "                thread.start()\n",
    "            for i, thread in enumerate(threads):\n",
    "                thread.join()\n",
    "            results.append(time.time() - start_time)\n",
    "        print(' '.join('{:.6e}'.format(result) for result in results))\n",
    "        results_list.append(results)"
   ]
  }
 ],
 "metadata": {
  "kernelspec": {
   "display_name": "Python 3",
   "language": "python",
   "name": "python3"
  },
  "language_info": {
   "codemirror_mode": {
    "name": "ipython",
    "version": 3
   },
   "file_extension": ".py",
   "mimetype": "text/x-python",
   "name": "python",
   "nbconvert_exporter": "python",
   "pygments_lexer": "ipython3",
   "version": "3.11.0"
  }
 },
 "nbformat": 4,
 "nbformat_minor": 2
}
